{
 "cells": [
  {
   "cell_type": "markdown",
   "metadata": {},
   "source": [
    "# PyData-BH 4 - Kaggle + Quora challenge"
   ]
  },
  {
   "cell_type": "markdown",
   "metadata": {},
   "source": [
    "## Intro to Word2Vec "
   ]
  },
  {
   "cell_type": "markdown",
   "metadata": {},
   "source": [
    "### Import pandas and gensim, load data (This could take a while. And will probably be more memory than my computer has avaiable)\n",
    "\n",
    "word2vec model, trained on wikipedia, is avaiable at https://ibm.box.com/s/cnw0975zzpbdpndm8hmw9d0umhp63yef"
   ]
  },
  {
   "cell_type": "code",
   "execution_count": 134,
   "metadata": {
    "collapsed": false
   },
   "outputs": [],
   "source": [
    "%matplotlib inline\n",
    "import pandas as pd\n",
    "import gensim\n",
    "import matplotlib\n",
    "from nltk.corpus import stopwords\n",
    "from nltk.tokenize import RegexpTokenizer\n",
    "import numpy as np\n",
    "from scipy import spatial"
   ]
  },
  {
   "cell_type": "code",
   "execution_count": 2,
   "metadata": {
    "collapsed": false
   },
   "outputs": [],
   "source": [
    "model = gensim.models.Word2Vec.load('data/word2vec.bin')\n",
    "#load only the wordvectors. We won't make any more trainning on it, so let's save some memory.\n",
    "wv = model.wv \n",
    "del model"
   ]
  },
  {
   "cell_type": "code",
   "execution_count": 142,
   "metadata": {
    "collapsed": false
   },
   "outputs": [
    {
     "data": {
      "text/plain": [
       "[(u'algorithms', 0.590934157371521),\n",
       " (u'optimization', 0.5430251955986023),\n",
       " (u'computational', 0.5244624614715576),\n",
       " (u'data-driven', 0.5172451734542847),\n",
       " (u'algorithm', 0.5059086084365845),\n",
       " (u'bayesian', 0.50047367811203),\n",
       " (u'analytics', 0.4976360499858856),\n",
       " (u'stochastic', 0.4931342303752899),\n",
       " (u'algorithmic', 0.48803848028182983),\n",
       " (u'preprocessing', 0.4855253994464874)]"
      ]
     },
     "execution_count": 142,
     "metadata": {},
     "output_type": "execute_result"
    }
   ],
   "source": [
    "wv.most_similar(\"machine-learning\")"
   ]
  },
  {
   "cell_type": "markdown",
   "metadata": {},
   "source": [
    "## Loading quora datasets"
   ]
  },
  {
   "cell_type": "code",
   "execution_count": 4,
   "metadata": {
    "collapsed": true
   },
   "outputs": [],
   "source": [
    "train_data = pd.read_csv(\"data/train.csv\")\n",
    "test_data = pd.read_csv(\"data/test.csv\")"
   ]
  },
  {
   "cell_type": "code",
   "execution_count": 5,
   "metadata": {
    "collapsed": false
   },
   "outputs": [
    {
     "data": {
      "text/html": [
       "<div>\n",
       "<table border=\"1\" class=\"dataframe\">\n",
       "  <thead>\n",
       "    <tr style=\"text-align: right;\">\n",
       "      <th></th>\n",
       "      <th>id</th>\n",
       "      <th>qid1</th>\n",
       "      <th>qid2</th>\n",
       "      <th>question1</th>\n",
       "      <th>question2</th>\n",
       "      <th>is_duplicate</th>\n",
       "    </tr>\n",
       "  </thead>\n",
       "  <tbody>\n",
       "    <tr>\n",
       "      <th>0</th>\n",
       "      <td>0</td>\n",
       "      <td>1</td>\n",
       "      <td>2</td>\n",
       "      <td>What is the step by step guide to invest in sh...</td>\n",
       "      <td>What is the step by step guide to invest in sh...</td>\n",
       "      <td>0</td>\n",
       "    </tr>\n",
       "    <tr>\n",
       "      <th>1</th>\n",
       "      <td>1</td>\n",
       "      <td>3</td>\n",
       "      <td>4</td>\n",
       "      <td>What is the story of Kohinoor (Koh-i-Noor) Dia...</td>\n",
       "      <td>What would happen if the Indian government sto...</td>\n",
       "      <td>0</td>\n",
       "    </tr>\n",
       "    <tr>\n",
       "      <th>2</th>\n",
       "      <td>2</td>\n",
       "      <td>5</td>\n",
       "      <td>6</td>\n",
       "      <td>How can I increase the speed of my internet co...</td>\n",
       "      <td>How can Internet speed be increased by hacking...</td>\n",
       "      <td>0</td>\n",
       "    </tr>\n",
       "    <tr>\n",
       "      <th>3</th>\n",
       "      <td>3</td>\n",
       "      <td>7</td>\n",
       "      <td>8</td>\n",
       "      <td>Why am I mentally very lonely? How can I solve...</td>\n",
       "      <td>Find the remainder when [math]23^{24}[/math] i...</td>\n",
       "      <td>0</td>\n",
       "    </tr>\n",
       "    <tr>\n",
       "      <th>4</th>\n",
       "      <td>4</td>\n",
       "      <td>9</td>\n",
       "      <td>10</td>\n",
       "      <td>Which one dissolve in water quikly sugar, salt...</td>\n",
       "      <td>Which fish would survive in salt water?</td>\n",
       "      <td>0</td>\n",
       "    </tr>\n",
       "  </tbody>\n",
       "</table>\n",
       "</div>"
      ],
      "text/plain": [
       "   id  qid1  qid2                                          question1  \\\n",
       "0   0     1     2  What is the step by step guide to invest in sh...   \n",
       "1   1     3     4  What is the story of Kohinoor (Koh-i-Noor) Dia...   \n",
       "2   2     5     6  How can I increase the speed of my internet co...   \n",
       "3   3     7     8  Why am I mentally very lonely? How can I solve...   \n",
       "4   4     9    10  Which one dissolve in water quikly sugar, salt...   \n",
       "\n",
       "                                           question2  is_duplicate  \n",
       "0  What is the step by step guide to invest in sh...             0  \n",
       "1  What would happen if the Indian government sto...             0  \n",
       "2  How can Internet speed be increased by hacking...             0  \n",
       "3  Find the remainder when [math]23^{24}[/math] i...             0  \n",
       "4            Which fish would survive in salt water?             0  "
      ]
     },
     "execution_count": 5,
     "metadata": {},
     "output_type": "execute_result"
    }
   ],
   "source": [
    "train_data.head()"
   ]
  },
  {
   "cell_type": "markdown",
   "metadata": {
    "collapsed": true
   },
   "source": [
    "Let's build a Function that **calculate the average of every single word on the question**"
   ]
  },
  {
   "cell_type": "code",
   "execution_count": 159,
   "metadata": {
    "collapsed": false
   },
   "outputs": [
    {
     "name": "stderr",
     "output_type": "stream",
     "text": [
      "/Users/arthur/miniconda2/envs/py27/lib/python2.7/site-packages/IPython/kernel/__main__.py:5: UnicodeWarning: Unicode equal comparison failed to convert both arguments to Unicode - interpreting them as being unequal\n"
     ]
    },
    {
     "name": "stdout",
     "output_type": "stream",
     "text": [
      "average negative distance: 0.229533290342\n",
      "average positive distance: 0.124747100846\n"
     ]
    }
   ],
   "source": [
    "def pre_processing(string):\n",
    "    string = string.lower()\n",
    "    tokenizer = RegexpTokenizer(r'\\w+')\n",
    "    word_list = tokenizer.tokenize(string)\n",
    "    filtered_words = [word for word in word_list if word not in stopwords.words('english')]\n",
    "    return filtered_words\n",
    "\n",
    "def avg_we(question):\n",
    "    words = pre_processing(question)\n",
    "    embeddings = []\n",
    "    for word in words:\n",
    "        try:\n",
    "            embeddings.append(wv[word])\n",
    "        except:\n",
    "            continue\n",
    "    embeddings = np.array(embeddings)\n",
    "    question_embedding = embeddings.mean(axis=0)\n",
    "    return question_embedding\n",
    "\n",
    "average_distances = {0:0.0, 1:0.0}\n",
    "count_positive = 0\n",
    "count_negative = 0\n",
    "\n",
    "for i in train_data.head(50).iterrows():\n",
    "    question1_embedding = avg_we(i[1].question1)\n",
    "    question2_embedding = avg_we(i[1].question2)\n",
    "    similarity = spatial.distance.cosine(question1_embedding, question2_embedding)\n",
    "    average_distances[i[1].is_duplicate] += similarity\n",
    "    if i[1].is_duplicate == 1:\n",
    "        count_positive += 1\n",
    "    else:\n",
    "        count_negative += 1\n",
    "\n",
    "print(\"average negative distance: {}\".format(average_distances[0]/count_negative))\n",
    "print(\"average positive distance: {}\".format(average_distances[1]/count_positive))"
   ]
  },
  {
   "cell_type": "code",
   "execution_count": 158,
   "metadata": {
    "collapsed": false
   },
   "outputs": [
    {
     "data": {
      "text/plain": [
       "array([ -8.75649080e-02,   6.76306844e-01,   1.61541015e-01,\n",
       "        -4.55041304e-02,   3.88373077e-01,  -2.86693156e-01,\n",
       "        -7.50976324e-01,  -1.92044824e-02,  -1.38332412e-01,\n",
       "         7.82331079e-02,  -1.27561390e-01,  -9.28292274e-01,\n",
       "        -1.23954266e-01,  -2.48100441e-02,   5.75234711e-01,\n",
       "         6.60666704e-01,  -2.12539583e-01,   3.31095010e-02,\n",
       "        -6.77211821e-01,   1.35473981e-01,   1.00618124e-01,\n",
       "        -2.01440067e-03,   3.65662038e-01,  -1.65189490e-01,\n",
       "         6.03020906e-01,   3.07306319e-01,  -8.81805599e-01,\n",
       "        -9.39803943e-02,  -4.65456754e-01,   4.39432114e-02,\n",
       "        -4.21882778e-01,   2.08005056e-01,   1.50679782e-01,\n",
       "        -3.96851480e-01,   9.45733767e-03,  -4.94944453e-01,\n",
       "         8.24004948e-01,  -4.70810622e-01,  -1.90350980e-01,\n",
       "        -2.68070936e-01,  -2.31635705e-01,   6.49417862e-02,\n",
       "         1.03897847e-01,   1.79845959e-01,  -4.28606659e-01,\n",
       "        -1.27368122e-01,  -4.22698021e-01,   5.54938853e-01,\n",
       "        -4.64785129e-01,   3.65992635e-01,   2.66050883e-02,\n",
       "         1.26681980e-02,   5.96001506e-01,  -6.77084267e-01,\n",
       "         9.22597647e-01,  -3.54961634e-01,  -1.92178607e-01,\n",
       "        -1.71221167e-01,   9.06899497e-02,  -5.77478647e-01,\n",
       "         1.08374476e-01,   8.54843855e-01,   2.45406907e-02,\n",
       "         4.02382880e-01,  -6.02702975e-01,   1.74116641e-01,\n",
       "         1.70635089e-01,   1.86133102e-01,   4.20532584e-01,\n",
       "         1.42353307e-02,   1.11836195e-02,  -1.69838786e-01,\n",
       "        -2.82111228e-01,   3.62213761e-01,   9.62973833e-01,\n",
       "        -2.92665958e-02,   2.49314040e-01,   4.32819456e-01,\n",
       "         2.30490655e-01,  -5.54090321e-01,   6.27750456e-01,\n",
       "        -6.26049638e-01,   6.96182966e-01,   2.57492721e-01,\n",
       "        -2.82561392e-01,  -1.01310885e+00,  -6.94147885e-01,\n",
       "         2.87761241e-01,  -8.83188307e-01,   1.73553273e-01,\n",
       "         2.54638672e-01,  -2.35250920e-01,   5.91295362e-01,\n",
       "         4.81016815e-01,  -5.90622544e-01,   3.26134205e-01,\n",
       "         4.09919709e-01,   2.58372605e-01,   4.27824855e-01,\n",
       "         1.04104258e-01,   1.78825200e-01,  -7.34444261e-02,\n",
       "         1.02457253e-03,  -3.88675302e-01,   3.48857522e-01,\n",
       "        -2.90363610e-01,   3.26930523e-01,   3.67087573e-01,\n",
       "         8.34179819e-02,   1.41245335e-01,   4.05567497e-01,\n",
       "        -4.71157819e-01,   2.57595420e-01,  -3.46896231e-01,\n",
       "        -1.33984715e-01,  -5.40223181e-01,  -4.84976262e-01,\n",
       "         1.28858075e-01,  -2.68651009e-01,  -1.61673412e-01,\n",
       "        -3.94248426e-01,   3.16656619e-01,   4.08299118e-01,\n",
       "        -3.59984905e-01,  -7.22970247e-01,   5.68716109e-01,\n",
       "         6.29089236e-01,   1.89003572e-01,  -6.85968697e-01,\n",
       "        -9.15411115e-01,  -3.46460581e-01,   1.98375247e-02,\n",
       "         7.54775345e-01,   3.91944081e-01,  -2.55243629e-01,\n",
       "         1.90523073e-01,   2.74229590e-02,   7.55801201e-02,\n",
       "         4.52692479e-01,   2.56796241e-01,   1.79085821e-01,\n",
       "         5.51357031e-01,   2.79163390e-01,  -1.01359904e-01,\n",
       "        -2.77411401e-01,  -9.84894261e-02,   1.76942174e-03,\n",
       "         5.54169834e-01,  -8.43779743e-02,  -2.46546209e-01,\n",
       "        -6.75925136e-01,  -4.20338124e-01,  -7.43477166e-01,\n",
       "         9.21740651e-01,  -2.73851633e-01,  -5.43477178e-01,\n",
       "        -1.45375699e-01,   8.72896239e-02,   5.29941954e-02,\n",
       "        -3.00881386e-01,  -9.77061018e-02,   2.77593046e-01,\n",
       "        -8.41459408e-02,   2.76482366e-02,   3.55056882e-01,\n",
       "         4.17398475e-02,   9.20786336e-02,   2.45474488e-01,\n",
       "        -2.34044380e-02,   1.83109164e-01,  -1.78410001e-02,\n",
       "         4.82756980e-02,  -1.62258834e-01,   6.89183474e-02,\n",
       "         4.50390756e-01,   7.83777773e-01,  -9.87537682e-01,\n",
       "        -1.55715212e-01,  -9.17227566e-01,   1.10632010e-01,\n",
       "        -2.66019315e-01,   1.01249643e-01,   7.20476285e-02,\n",
       "         9.55783278e-02,  -4.99966264e-01,  -3.46346289e-01,\n",
       "        -3.21537942e-01,   1.03094175e-01,   6.78385854e-01,\n",
       "        -1.68214589e-01,   1.60771266e-01,   8.87943089e-01,\n",
       "         1.93888530e-01,  -1.77645907e-01,  -3.09912324e-01,\n",
       "        -2.62694359e-01,  -1.43680513e-01,   9.24482465e-01,\n",
       "         1.64492071e-01,   3.02451581e-01,  -5.29324412e-02,\n",
       "        -6.94127917e-01,   4.28872079e-01,  -2.32983589e-01,\n",
       "        -4.75158155e-01,  -1.72321610e-02,  -1.11203037e-01,\n",
       "        -5.10302424e-01,   3.72222513e-01,   9.23243403e-01,\n",
       "         2.56601542e-01,   4.92299467e-01,  -4.70625222e-01,\n",
       "        -4.32918578e-01,  -3.99310112e-01,  -5.09435594e-01,\n",
       "         6.03217125e-01,  -1.77256420e-01,  -3.95894229e-01,\n",
       "         3.50988716e-01,   2.54806489e-01,   8.47056925e-01,\n",
       "        -1.19713075e-01,  -3.19098651e-01,  -1.50387302e-01,\n",
       "        -4.59673256e-01,  -1.10813826e-01,   1.24216147e-01,\n",
       "         1.02648735e+00,   6.14477575e-01,   4.97405902e-02,\n",
       "         7.54543602e-01,  -6.40111268e-02,  -3.77571493e-01,\n",
       "         3.68368894e-01,   4.33618307e-01,   2.31567502e-01,\n",
       "         2.70226359e-01,   1.94234937e-01,   7.66029239e-01,\n",
       "         2.31026277e-01,   7.42111146e-01,  -3.13866109e-01,\n",
       "         2.89835751e-01,   3.45136970e-01,  -6.99082255e-01,\n",
       "         9.00837958e-01,  -5.58128804e-02,   1.35295242e-01,\n",
       "         1.08894312e+00,   4.84371811e-01,  -5.53839505e-01,\n",
       "        -5.71140826e-01,  -3.78406644e-01,  -8.29817057e-01,\n",
       "        -3.06055665e-01,  -1.10973150e-01,   4.30911243e-01,\n",
       "         1.56056121e-01,   2.33857334e-01,  -2.92058885e-01,\n",
       "        -6.72698393e-02,   1.73855517e-02,  -7.65698373e-01,\n",
       "        -4.91848975e-01,   3.10983241e-01,  -2.03873113e-01,\n",
       "        -1.39133245e-01,  -1.02498800e-01,  -5.06863236e-01,\n",
       "        -6.48106039e-02,   1.24252133e-01,  -3.87074240e-02,\n",
       "         1.83715582e-01,  -1.76705986e-01,  -1.53896332e-01,\n",
       "         4.62083995e-01,  -1.20217192e+00,   4.60176840e-02,\n",
       "        -1.46599248e-01,   1.34062454e-01,   4.76221919e-01,\n",
       "        -1.70794562e-01,   1.00017957e-01,  -3.20504636e-01,\n",
       "         1.04901135e-01,   1.47374719e-01,  -1.66025087e-01,\n",
       "         4.01909769e-01,   7.60208117e-03,  -5.84383495e-02,\n",
       "        -1.63270116e-01,  -3.02183658e-01,  -6.61795810e-02,\n",
       "         1.24430192e+00,  -3.19695696e-02,   3.68517458e-01,\n",
       "        -5.15959859e-01,  -3.09573352e-01,   6.18840814e-01], dtype=float32)"
      ]
     },
     "execution_count": 158,
     "metadata": {},
     "output_type": "execute_result"
    }
   ],
   "source": [
    "wv[\"machine-learning\"]"
   ]
  },
  {
   "cell_type": "code",
   "execution_count": 154,
   "metadata": {
    "collapsed": false
   },
   "outputs": [
    {
     "name": "stdout",
     "output_type": "stream",
     "text": [
      "(7, 300)\n"
     ]
    },
    {
     "data": {
      "text/plain": [
       "array([ -7.38992617e-02,   1.27554685e-01,  -8.52156954e-04,\n",
       "        -1.19432449e-01,   3.69795738e-03,  -6.41243672e-03,\n",
       "         8.69216677e-03,   1.29379287e-01,   3.45472619e-02,\n",
       "         7.98729658e-02,  -8.37706998e-02,   1.44541515e-02,\n",
       "         1.33033589e-01,  -5.17602377e-02,   1.22424245e-01,\n",
       "        -3.83252688e-02,  -2.54639208e-01,   1.23551421e-01,\n",
       "        -2.05630168e-01,   3.06125972e-02,   1.23958364e-01,\n",
       "         7.69437030e-02,  -4.22669128e-02,   3.19810025e-02,\n",
       "         5.47905043e-02,   4.38466333e-02,  -2.68614560e-01,\n",
       "        -2.58008149e-02,  -1.39603347e-01,  -2.53818301e-03,\n",
       "         3.94764245e-02,   7.82561451e-02,  -1.91683546e-01,\n",
       "        -3.11534610e-02,   1.64337859e-01,   1.28459200e-01,\n",
       "         1.41691342e-01,   1.94721632e-02,   4.60987203e-02,\n",
       "        -6.95347413e-02,   8.19235072e-02,   9.84332040e-02,\n",
       "        -1.57878876e-01,  -1.27554342e-01,   9.62521657e-02,\n",
       "        -6.21241964e-02,   1.41862303e-01,   9.41285044e-02,\n",
       "        -7.38203526e-05,   1.16224721e-01,  -2.50148714e-01,\n",
       "        -1.16285369e-01,   1.18194200e-01,  -1.00283340e-01,\n",
       "         7.52828363e-03,  -4.28086035e-02,   2.30681933e-02,\n",
       "        -6.16237149e-02,  -9.77087617e-02,  -1.58113614e-01,\n",
       "         2.86477245e-02,  -3.48579176e-02,  -2.64724139e-02,\n",
       "        -8.25843886e-02,  -2.26111393e-02,  -7.52430558e-02,\n",
       "         1.00082278e-01,  -1.02897167e-01,   6.29208237e-02,\n",
       "         1.08728290e-01,   1.49783149e-01,  -8.54500383e-02,\n",
       "        -1.25178978e-01,   1.12162478e-01,   8.96211341e-02,\n",
       "        -1.11880049e-03,   1.05437361e-01,   5.85737638e-02,\n",
       "        -8.10892209e-02,  -5.79838865e-02,  -1.87984571e-01,\n",
       "         2.11183308e-03,   1.38517156e-01,  -5.15940227e-02,\n",
       "        -8.00384060e-02,   3.69106941e-02,   5.22580780e-02,\n",
       "        -1.26575828e-02,   1.50211468e-01,  -8.62566233e-02,\n",
       "        -1.69004127e-02,  -1.86271772e-01,  -8.87957290e-02,\n",
       "        -6.70909658e-02,  -9.97382253e-02,   1.35220617e-01,\n",
       "        -4.27703671e-02,  -8.50443728e-03,   5.72051592e-02,\n",
       "        -1.09206125e-01,   1.64136603e-01,   1.14601448e-01,\n",
       "         2.32234467e-02,   5.14666317e-03,  -1.13538787e-01,\n",
       "        -4.65084314e-02,   6.01592958e-02,   1.46878123e-01,\n",
       "        -1.35273725e-01,  -1.47928864e-01,  -4.09743413e-02,\n",
       "        -1.66188583e-01,  -4.89910655e-02,  -6.41866773e-02,\n",
       "        -9.40807015e-02,  -3.36453393e-02,  -2.51293071e-02,\n",
       "         2.72318386e-02,  -4.34297044e-03,   1.00773528e-01,\n",
       "        -1.25880301e-01,   1.24585763e-01,   1.24460630e-01,\n",
       "        -2.89331675e-02,  -1.30516917e-01,   1.88458040e-01,\n",
       "         1.40740378e-02,   5.71180768e-02,   1.00841656e-01,\n",
       "         1.00732066e-01,   1.03926189e-01,  -3.55386687e-03,\n",
       "         1.89216688e-01,  -1.21590365e-02,   1.78062916e-01,\n",
       "         1.02754042e-01,  -1.10828862e-01,   6.98141605e-02,\n",
       "         2.20476404e-01,   1.61097050e-01,  -1.54020548e-01,\n",
       "         1.20947510e-02,   4.31049727e-02,   5.58646731e-02,\n",
       "        -7.28156343e-02,   1.46859691e-01,  -1.32719532e-01,\n",
       "         7.78003037e-03,  -2.18776856e-02,   5.10139652e-02,\n",
       "        -9.68839154e-02,  -2.64968067e-01,  -9.27954689e-02,\n",
       "         2.99349260e-02,  -5.44059686e-02,   1.72855537e-02,\n",
       "        -3.93790342e-02,  -2.42389198e-02,  -7.24610537e-02,\n",
       "         4.91810665e-02,   1.27894536e-05,   9.55527946e-02,\n",
       "         1.97541550e-01,   1.46551505e-01,   8.00488591e-02,\n",
       "         2.26244479e-02,  -5.52698784e-02,  -2.19976678e-01,\n",
       "         4.80158627e-03,  -2.28432361e-02,  -1.43816590e-01,\n",
       "        -1.92133188e-01,  -5.09482287e-02,  -1.23001918e-01,\n",
       "        -1.70870543e-01,   8.77335668e-02,  -1.49054810e-01,\n",
       "        -8.33502486e-02,   2.44013593e-03,   3.40479016e-02,\n",
       "         1.03144757e-01,  -4.37664613e-02,  -2.19929088e-02,\n",
       "         4.34089489e-02,  -1.73501745e-01,  -2.91960035e-02,\n",
       "        -1.00588121e-01,  -2.41876878e-02,  -8.97520781e-02,\n",
       "        -3.78299579e-02,   3.28262895e-03,   1.08694024e-01,\n",
       "        -1.45290922e-02,  -6.72238618e-02,  -2.22869851e-02,\n",
       "        -8.55889693e-02,  -1.68146834e-01,   1.10477567e-01,\n",
       "        -3.61877084e-02,   2.06395417e-01,   5.95508739e-02,\n",
       "        -3.80991236e-03,  -1.36405500e-02,  -9.75840688e-02,\n",
       "         1.31061271e-01,  -2.69564654e-04,  -1.68339014e-02,\n",
       "         9.80753824e-02,  -1.65455252e-01,  -5.94636723e-02,\n",
       "        -1.57270078e-02,   6.63851053e-02,  -3.41119394e-02,\n",
       "        -1.23567306e-01,   3.36303785e-02,   3.97074483e-02,\n",
       "        -1.72544554e-01,   6.73791319e-02,  -9.49598029e-02,\n",
       "         1.68348461e-01,   1.77116007e-01,   6.88532069e-02,\n",
       "         7.82387033e-02,   1.04872007e-02,   1.49563598e-02,\n",
       "        -5.38552776e-02,  -2.53478467e-01,   2.24226322e-02,\n",
       "         9.52878371e-02,   9.49560385e-03,  -1.44051716e-01,\n",
       "         1.62804872e-01,  -3.31983268e-02,   7.37820799e-03,\n",
       "        -3.49747874e-02,   1.62233725e-01,  -3.78480135e-03,\n",
       "         8.17480683e-02,   1.65770464e-02,  -6.67574927e-02,\n",
       "         7.54335672e-02,   1.09436922e-01,   2.84571052e-02,\n",
       "         7.64734820e-02,  -1.09781608e-01,  -8.71097669e-02,\n",
       "         3.09261419e-02,   8.42689499e-02,   4.85666618e-02,\n",
       "         3.50027643e-02,  -1.67659689e-02,  -1.48239464e-01,\n",
       "        -4.32158401e-03,   4.63031717e-02,  -1.79374427e-01,\n",
       "         4.56781406e-03,  -1.57073259e-01,   1.10406920e-01,\n",
       "         1.87257119e-02,   7.91229829e-02,  -5.32969907e-02,\n",
       "        -4.38242853e-02,   2.85034869e-02,  -8.09316859e-02,\n",
       "         1.87208816e-01,  -2.04097137e-01,   3.09577081e-02,\n",
       "         8.69424865e-02,  -2.34419201e-02,   1.52522579e-01,\n",
       "        -3.66468206e-02,   1.55635521e-01,  -2.14545295e-01,\n",
       "        -9.64191109e-02,  -7.03555495e-02,  -1.57509729e-01,\n",
       "        -1.05644368e-01,  -1.05127031e-02,   9.72900353e-03,\n",
       "        -3.63018326e-02,   1.30320638e-01,  -2.74772216e-02,\n",
       "         8.42505228e-03,   1.50458915e-02,  -4.28132340e-02,\n",
       "         4.86329161e-02,  -2.00513959e-01,  -1.65731192e-01,\n",
       "         2.03426499e-02,  -2.23456755e-01,  -5.10969199e-02,\n",
       "         1.15762137e-01,  -7.83176571e-02,  -1.68793164e-02,\n",
       "        -6.41639307e-02,   5.18767834e-02,  -9.12005827e-02,\n",
       "        -4.72945608e-02,  -1.21417291e-01,   6.06027246e-02], dtype=float32)"
      ]
     },
     "execution_count": 154,
     "metadata": {},
     "output_type": "execute_result"
    }
   ],
   "source": [
    "question = \"What is the step by step guide to invest in share market in india?\"\n",
    "words = pre_processing(question)\n",
    "embeddings = []\n",
    "for word in words:\n",
    "    embeddings.append(wv[word])\n",
    "embeddings = np.array(embeddings)\n",
    "print(embeddings.shape)\n",
    "mean_embeddings = embeddings.mean(axis=0)\n",
    "mean_embeddings"
   ]
  },
  {
   "cell_type": "code",
   "execution_count": 150,
   "metadata": {
    "collapsed": false
   },
   "outputs": [
    {
     "data": {
      "text/plain": [
       "300"
      ]
     },
     "execution_count": 150,
     "metadata": {},
     "output_type": "execute_result"
    }
   ],
   "source": [
    "len(embeddings[0])\n",
    "# len(words)"
   ]
  },
  {
   "cell_type": "code",
   "execution_count": 100,
   "metadata": {
    "collapsed": false
   },
   "outputs": [
    {
     "data": {
      "text/plain": [
       "[(u'word', 1.0),\n",
       " (u'meaning', 0.7980709075927734),\n",
       " (u'words', 0.7763534188270569),\n",
       " (u'phrase', 0.737951397895813),\n",
       " (u'etymologically', 0.7074786424636841),\n",
       " (u'referring', 0.6826249361038208),\n",
       " (u'loanword', 0.6816995143890381),\n",
       " (u'means', 0.6796748042106628),\n",
       " (u'etymology', 0.670539915561676),\n",
       " (u'adjective', 0.662657618522644)]"
      ]
     },
     "execution_count": 100,
     "metadata": {},
     "output_type": "execute_result"
    }
   ],
   "source": [
    "i = wv[\"india\"]\n",
    "b = wv[\"brazil\"]\n",
    "# spatial.distance.cosine(i,b)\n",
    "wv.similar_by_vector(question1_embedding)"
   ]
  }
 ],
 "metadata": {
  "kernelspec": {
   "display_name": "Environment (py27)",
   "language": "",
   "name": "py27"
  },
  "language_info": {
   "codemirror_mode": {
    "name": "ipython",
    "version": 2
   },
   "file_extension": ".py",
   "mimetype": "text/x-python",
   "name": "python",
   "nbconvert_exporter": "python",
   "pygments_lexer": "ipython2",
   "version": "2.7.12"
  }
 },
 "nbformat": 4,
 "nbformat_minor": 0
}
